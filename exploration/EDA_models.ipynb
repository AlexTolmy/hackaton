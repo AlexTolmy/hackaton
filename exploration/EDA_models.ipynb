{
 "cells": [
  {
   "cell_type": "code",
   "execution_count": null,
   "outputs": [],
   "source": [
    "import pandas as pd\n",
    "import numpy as np\n",
    "# import pywedge as pw\n",
    "from pathlib import Path\n",
    "# from data_dashboard import Dashboard\n",
    "\n",
    "import matplotlib.pyplot as plt\n",
    "# import seaborn as sns\n",
    "\n",
    "# import lightgbm\n",
    "# import sklearn.linear_model as lm\n",
    "# from sklearn.model_selection import train_test_split\n",
    "# from sklearn.metrics import mean_absolute_error, mean_squared_error, r2_score\n",
    "# from ydata_profiling import ProfileReport\n",
    "# from sklearn.ensemble import RandomForestRegressor\n",
    "# from sklearn.ensemble import GradientBoostingRegressor\n",
    "import plotly.express as px\n",
    "\n",
    "from pylab import savefig\n",
    "# import shap"
   ],
   "metadata": {
    "collapsed": false
   }
  },
  {
   "cell_type": "code",
   "execution_count": null,
   "outputs": [],
   "source": [],
   "metadata": {
    "collapsed": false
   }
  },
  {
   "cell_type": "code",
   "execution_count": null,
   "outputs": [],
   "source": [
    "from IPython.core.display import display, HTML\n",
    "display(HTML(\"<style>.container { width:100% !important; }</style>\"))\n",
    "\n",
    "pd.set_option('display.max_rows', 500)\n",
    "pd.set_option('display.max_columns', 500)\n",
    "pd.set_option('display.width', 1000)"
   ],
   "metadata": {
    "collapsed": false
   }
  },
  {
   "cell_type": "code",
   "execution_count": null,
   "outputs": [],
   "source": [],
   "metadata": {
    "collapsed": false
   }
  },
  {
   "cell_type": "code",
   "execution_count": null,
   "outputs": [],
   "source": [
    "path_to_data = Path('/home/kosintsev_ag@sib.evraz.com/PycharmProjects/2023_evraz_hackaton/exploration/data/kafka_data.csv')\n",
    "data = pd.read_csv(path_to_data)\n",
    "mapping = pd.read_excel('/home/kosintsev_ag@sib.evraz.com/PycharmProjects/2023_evraz_hackaton/exploration/data/Маппинг сигналов.xlsx')\n",
    "mapping.index = mapping['Код сигнала в Kafka']\n",
    "mapping.drop('Код сигнала в Kafka', axis=1, inplace=True)"
   ],
   "metadata": {
    "collapsed": false
   }
  },
  {
   "cell_type": "code",
   "execution_count": null,
   "outputs": [],
   "source": [
    "mapping_dict = mapping.to_dict()['Название']\n",
    "print(str(mapping_dict)[:200])"
   ],
   "metadata": {
    "collapsed": false
   }
  },
  {
   "cell_type": "code",
   "execution_count": null,
   "outputs": [],
   "source": [
    "print('Найден мапинг для датчиков:', len([True for i in set(data.columns) if i in set(mapping_dict.keys())]))\n",
    "missed_map_cols = [i for i in set(data.columns) if i not in set(mapping_dict.keys())]\n",
    "print('Не найден мапинг для датчиков:', missed_map_cols)"
   ],
   "metadata": {
    "collapsed": false
   }
  },
  {
   "cell_type": "code",
   "execution_count": null,
   "outputs": [],
   "source": [
    "print('shape:\\n', data.shape)\n",
    "data = data.rename(columns=mapping_dict)\n",
    "data.index = data['moment']\n",
    "# data.drop('moment', axis=1, inplace=True)\n",
    "data.drop(missed_map_cols, axis=1, inplace=True)\n",
    "\n",
    "print('shape:\\n', data.shape)\n",
    "print('\\n', data.info())\n",
    "data.head(5)"
   ],
   "metadata": {
    "collapsed": false
   }
  },
  {
   "cell_type": "code",
   "execution_count": null,
   "outputs": [],
   "source": [
    "data.describe()"
   ],
   "metadata": {
    "collapsed": false
   }
  },
  {
   "cell_type": "code",
   "execution_count": null,
   "outputs": [],
   "source": [
    "def plot_scatters(df, plot_cols):\n",
    "    for col in plot_cols:\n",
    "        fig, ax = plt.subplots(figsize=(10,10))\n",
    "        ax.set_title(col)\n",
    "        ax.scatter(df.index, df[col], c=[[0.5, 0, 0.5, 0.15]])\n",
    "\n",
    "def plot_hists(df, plot_cols):\n",
    "    for col in plot_cols:\n",
    "        f, ax = plt.subplots(figsize=(10,6))\n",
    "        ax.set_title(col)\n",
    "        df[col].hist(bins=100)\n",
    "\n",
    "def isna_percent(df):\n",
    "    return (df.isna().sum()/df.shape[0]*100).sort_values(ascending=False)\n",
    "\n",
    "def isna_count(df):\n",
    "    return df.isna().sum().sort_values(ascending=False)"
   ],
   "metadata": {
    "collapsed": false
   }
  },
  {
   "cell_type": "code",
   "execution_count": null,
   "outputs": [],
   "source": [
    "isna_count(data)"
   ],
   "metadata": {
    "collapsed": false
   }
  },
  {
   "cell_type": "code",
   "execution_count": null,
   "outputs": [],
   "source": [
    "data = data.dropna().sort_index()\n",
    "data.head()"
   ],
   "metadata": {
    "collapsed": false
   }
  },
  {
   "cell_type": "code",
   "execution_count": null,
   "outputs": [],
   "source": [
    "all_ustavki = [i for i in data.columns if 'уставк' in i.lower()]\n",
    "us_ravni = (data[all_ustavki] == data[all_ustavki].iloc[0]).min()\n",
    "us_ravni[us_ravni==False]"
   ],
   "metadata": {
    "collapsed": false
   }
  },
  {
   "cell_type": "code",
   "execution_count": null,
   "outputs": [],
   "source": [
    "a = data['Уставка аварийная max ГВ 7т Эксгаустер №4'] - data['Уставка аварийная max ГВ 7т Эксгаустер №4'].shift(-1)\n",
    "a[a!=0]"
   ],
   "metadata": {
    "collapsed": false
   }
  },
  {
   "cell_type": "markdown",
   "source": [
    "##### Всего 1 уставка отличается в истории, менялась туда обратно 1 раз. Все уставки сбросим с data"
   ],
   "metadata": {
    "collapsed": false
   }
  },
  {
   "cell_type": "code",
   "execution_count": null,
   "outputs": [],
   "source": [
    "ustavki = data[all_ustavki].copy()\n",
    "data.drop(all_ustavki, axis=1, inplace=True)\n",
    "data.index = data.index.astype('datetime64[ns]')\n",
    "data.columns = data.columns.str.lower()"
   ],
   "metadata": {
    "collapsed": false
   }
  },
  {
   "cell_type": "code",
   "execution_count": null,
   "outputs": [],
   "source": [
    "data.head()"
   ],
   "metadata": {
    "collapsed": false
   }
  },
  {
   "cell_type": "code",
   "execution_count": null,
   "outputs": [],
   "source": [
    "data.shape"
   ],
   "metadata": {
    "collapsed": false
   }
  },
  {
   "cell_type": "code",
   "execution_count": null,
   "outputs": [],
   "source": [
    "data_exh = dict()"
   ],
   "metadata": {
    "collapsed": false
   }
  },
  {
   "cell_type": "code",
   "execution_count": null,
   "outputs": [],
   "source": [
    "for exh_id in range(1, 7):\n",
    "    print(exh_id)\n",
    "    exhauster_i_cols = [\n",
    "        i for i in data.columns if f'ксгаустер №{exh_id}' in i\n",
    "                                   or f'ксгаустера №{exh_id}' in i\n",
    "                                   or f'ксгаустером №{exh_id}' in i\n",
    "    ]\n",
    "    print(f'столбцов для эксгаустера #{exh_id}', len(exhauster_i_cols))\n",
    "\n",
    "    data_exh[exh_id] = dict()\n",
    "    data_exh[exh_id]['data'] = data[exhauster_i_cols].copy()\n",
    "    print('размер df:', data_exh[exh_id]['data'].shape)\n",
    "\n",
    "    targets_i = [i for i in data_exh[exh_id]['data'].columns if 'вибрация' in i and 'уставка' not in i]\n",
    "    data_exh[exh_id]['targets'] = targets_i\n"
   ],
   "metadata": {
    "collapsed": false
   }
  },
  {
   "cell_type": "code",
   "execution_count": null,
   "outputs": [],
   "source": [
    "# mc = pw.Pywedge_Charts(data_3exh, c=None, y=targets_3[-2])\n",
    "# charts = mc.make_charts()"
   ],
   "metadata": {
    "collapsed": false
   }
  },
  {
   "cell_type": "code",
   "execution_count": null,
   "outputs": [],
   "source": [
    "# output_directory = 'your_path/dashboard_output'\n",
    "# X, y, descriptions = data_3exh.drop(targets_3[-2], axis=1), data[targets_3[-2]], None\n",
    "# # descriptions is an optional argument, more in documentation\n",
    "# dsh = Dashboard(X, y, output_directory, descriptions)\n",
    "# dsh.create_dashboard()"
   ],
   "metadata": {
    "collapsed": false
   }
  },
  {
   "cell_type": "markdown",
   "source": [
    "#### Pandas profiling"
   ],
   "metadata": {
    "collapsed": false
   }
  },
  {
   "cell_type": "code",
   "execution_count": null,
   "outputs": [],
   "source": [
    "# profile = ProfileReport(data_3exh, title=f\"{exhauster_number} exhauster\")\n",
    "# profile.to_file(\"3_exhauster.html\")"
   ],
   "metadata": {
    "collapsed": false
   }
  },
  {
   "cell_type": "markdown",
   "source": [
    "#### Проанализируем поведение вибраций по подшипникам связных эксгаустеров"
   ],
   "metadata": {
    "collapsed": false
   }
  },
  {
   "cell_type": "code",
   "execution_count": null,
   "outputs": [],
   "source": [
    "px.line(data_exh[0]['data'])"
   ],
   "metadata": {
    "collapsed": false
   }
  },
  {
   "cell_type": "code",
   "execution_count": null,
   "outputs": [],
   "source": [],
   "metadata": {
    "collapsed": false
   }
  },
  {
   "cell_type": "code",
   "execution_count": null,
   "outputs": [],
   "source": [],
   "metadata": {
    "collapsed": false
   }
  },
  {
   "cell_type": "code",
   "execution_count": null,
   "outputs": [],
   "source": [],
   "metadata": {
    "collapsed": false
   }
  },
  {
   "cell_type": "code",
   "execution_count": null,
   "outputs": [],
   "source": [],
   "metadata": {
    "collapsed": false
   }
  },
  {
   "cell_type": "markdown",
   "source": [
    "# Обучение моделей"
   ],
   "metadata": {
    "collapsed": false
   }
  },
  {
   "cell_type": "code",
   "execution_count": null,
   "outputs": [],
   "source": [
    "x_train, x_test, y_train, y_test = train_test_split(data.drop('M25', axis=1), data['M25'], test_size=0.2, shuffle=False)\n",
    "\n",
    "model = Fedot(problem='regression', timeout=15, preset='best_quality', n_jobs=-1)\n",
    "model.fit(features=x_train, target=y_train)\n",
    "prediction = model.predict(features=x_test)\n",
    "metrics = model.get_metrics(target=y_test)"
   ],
   "metadata": {
    "collapsed": false
   }
  },
  {
   "cell_type": "code",
   "execution_count": null,
   "outputs": [],
   "source": [
    "metrics"
   ],
   "metadata": {
    "collapsed": false
   }
  },
  {
   "cell_type": "code",
   "execution_count": null,
   "outputs": [],
   "source": [
    "r2_score(y_test, prediction)"
   ],
   "metadata": {
    "collapsed": false
   }
  },
  {
   "cell_type": "code",
   "execution_count": null,
   "outputs": [],
   "source": [
    "cols_for_model = []\n",
    "\n",
    "gbm = lightgbm.LGBMRegressor()\n",
    "model_list = [gbm, ]\n",
    "\n",
    "\n",
    "def train_model(model_list, x, y):\n",
    "    for model in model_list:\n",
    "\n",
    "        df_r2 = pd.Series()\n",
    "\n",
    "        x_train, x_test, y_train, y_test = train_test_split(x, y, test_size=0.3)\n",
    "        model.fit(x_train, y_train)\n",
    "\n",
    "        y_pred = model.predict(x_test)\n",
    "\n",
    "        fig, ax = plt.subplots(figsize=(12,8))\n",
    "        ax.set_title(f\"Модель {model}\")\n",
    "        feature_importances = pd.Series(model.feature_importances_, index=x.columns)\n",
    "        top_vals = feature_importances.nlargest(10).sort_values(ascending=True)\n",
    "        y_label = [str(i) for i in top_vals.index.values]\n",
    "        # print(y_label)\n",
    "        ax.barh(y_label, top_vals.values)\n",
    "        plt.show()\n",
    "\n",
    "        mse, mae = np.round(mean_absolute_error(y_test, y_pred),10), np.round(mean_squared_error(y_test, y_pred), 10)\n",
    "        mse = np.round(mse, 8)\n",
    "        mae = np.round(mae, 8)\n",
    "\n",
    "        print(\"MSE =\", mse)\n",
    "        print(\"MAE =\", mae)\n",
    "        plt.style.use(\"ggplot\")\n",
    "        fig, ax = plt.subplots(figsize=(15,15))\n",
    "\n",
    "        test_r2 = np.round(r2_score(y_test, y_pred)*100, 2)\n",
    "        labell = f\"R2 = {test_r2}%, MAE={mae}\"\n",
    "        ax.set_title(labell)\n",
    "        ax.set_xlabel(\"FACT\")\n",
    "        ax.set_ylabel(\"PREDICTION\")\n",
    "        ax.scatter(y_test, y_pred, c=[[0.5, 0, 0.5, 0.15]],)\n",
    "\n",
    "        line_45_x = [i for i in [y_test.min(), y_test.max()]]\n",
    "        line_45_y = [i for i in [y_test.min(), y_test.max()]]\n",
    "        ax.plot(line_45_x, line_45_y, color=\"gray\")\n",
    "        df_r2[str(model)] = test_r2\n",
    "        plt.show()\n",
    "        print(\"R2 =\", test_r2)"
   ],
   "metadata": {
    "collapsed": false
   }
  },
  {
   "cell_type": "code",
   "execution_count": null,
   "outputs": [],
   "source": [],
   "metadata": {
    "collapsed": false
   }
  }
 ],
 "metadata": {
  "kernelspec": {
   "display_name": "Python 3",
   "language": "python",
   "name": "python3"
  },
  "language_info": {
   "codemirror_mode": {
    "name": "ipython",
    "version": 2
   },
   "file_extension": ".py",
   "mimetype": "text/x-python",
   "name": "python",
   "nbconvert_exporter": "python",
   "pygments_lexer": "ipython2",
   "version": "2.7.6"
  }
 },
 "nbformat": 4,
 "nbformat_minor": 0
}
